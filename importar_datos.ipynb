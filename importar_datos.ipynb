{
 "cells": [
  {
   "cell_type": "markdown",
   "metadata": {},
   "source": [
    "# Importar librerias \n",
    "La librerias necesarias son:   \n",
    "<b>Pandas</b> para <i>leer el dataset</i> y hacer el data frame  \n",
    "<b>Numpy</b> para <i>realizar operaciones matemáticas</i> con matrices  \n",
    "<b>Seaborn</b> para <i>hacer el gráfico</i> de violín  \n",
    "<b>OS</b> para <i>acceder a archivos</i> del sistema "
   ]
  },
  {
   "cell_type": "code",
   "execution_count": 61,
   "metadata": {
    "scrolled": true
   },
   "outputs": [],
   "source": [
    "import pandas as pd\n",
    "import numpy as np\n",
    "import seaborn as sns\n",
    "import os\n",
    "import re"
   ]
  },
  {
   "cell_type": "markdown",
   "metadata": {},
   "source": [
    "# Leer datos\n",
    "Primero vamos a leer solo un archivo .txt ubicado en la dirección que se pasa como parametro a la función pd.read_csv. Con esta función es posible leer archivos en formato de tabla, separados por algo particular (en este caso \":\")"
   ]
  },
  {
   "cell_type": "code",
   "execution_count": 62,
   "metadata": {},
   "outputs": [
    {
     "data": {
      "text/html": [
       "<div>\n",
       "<style scoped>\n",
       "    .dataframe tbody tr th:only-of-type {\n",
       "        vertical-align: middle;\n",
       "    }\n",
       "\n",
       "    .dataframe tbody tr th {\n",
       "        vertical-align: top;\n",
       "    }\n",
       "\n",
       "    .dataframe thead th {\n",
       "        text-align: right;\n",
       "    }\n",
       "</style>\n",
       "<table border=\"1\" class=\"dataframe\">\n",
       "  <thead>\n",
       "    <tr style=\"text-align: right;\">\n",
       "      <th></th>\n",
       "      <th>Numero</th>\n",
       "      <th>Dato</th>\n",
       "    </tr>\n",
       "  </thead>\n",
       "  <tbody>\n",
       "    <tr>\n",
       "      <th>0</th>\n",
       "      <td>Start Date</td>\n",
       "      <td>06/06/19</td>\n",
       "    </tr>\n",
       "    <tr>\n",
       "      <th>1</th>\n",
       "      <td>End Date</td>\n",
       "      <td>06/06/19</td>\n",
       "    </tr>\n",
       "    <tr>\n",
       "      <th>2</th>\n",
       "      <td>Subject</td>\n",
       "      <td>1</td>\n",
       "    </tr>\n",
       "    <tr>\n",
       "      <th>3</th>\n",
       "      <td>Experiment:</td>\n",
       "      <td>None</td>\n",
       "    </tr>\n",
       "    <tr>\n",
       "      <th>4</th>\n",
       "      <td>Group</td>\n",
       "      <td>Ax</td>\n",
       "    </tr>\n",
       "    <tr>\n",
       "      <th>5</th>\n",
       "      <td>Box</td>\n",
       "      <td>1</td>\n",
       "    </tr>\n",
       "    <tr>\n",
       "      <th>6</th>\n",
       "      <td>Start Time</td>\n",
       "      <td>13:36:24</td>\n",
       "    </tr>\n",
       "    <tr>\n",
       "      <th>7</th>\n",
       "      <td>End Time</td>\n",
       "      <td>14:10:28</td>\n",
       "    </tr>\n",
       "    <tr>\n",
       "      <th>8</th>\n",
       "      <td>MSN</td>\n",
       "      <td>COMPUESTO_RL+</td>\n",
       "    </tr>\n",
       "    <tr>\n",
       "      <th>9</th>\n",
       "      <td>A</td>\n",
       "      <td>164.000</td>\n",
       "    </tr>\n",
       "  </tbody>\n",
       "</table>\n",
       "</div>"
      ],
      "text/plain": [
       "        Numero           Dato\n",
       "0   Start Date       06/06/19\n",
       "1     End Date       06/06/19\n",
       "2      Subject              1\n",
       "3  Experiment:           None\n",
       "4        Group             Ax\n",
       "5          Box              1\n",
       "6   Start Time       13:36:24\n",
       "7     End Time       14:10:28\n",
       "8          MSN  COMPUESTO_RL+\n",
       "9            A        164.000"
      ]
     },
     "execution_count": 62,
     "metadata": {},
     "output_type": "execute_result"
    }
   ],
   "source": [
    "#en la variable data vamos a guardar el contenido del archivo SU16_SE1_Ax+.txt, que se encuentra en la ubicación\n",
    "#/home/yan/datos_ratas_tesis_doctorado/ENTRENAMIENTO/Grupo_Ax/ de un sistema Linux\n",
    "data = pd.read_csv(\"/home/yan/datos_ratas_tesis_doctorado/ENTRENAMIENTO/Grupo_Ax/SU16_SE1_Ax+.txt\", sep = ': ', engine='python', keep_default_na=False,\n",
    "                       na_values=[' '])\n",
    "\n",
    "#convertimos la variable en una variable de tipo DataFrame de Pandas\n",
    "data = pd.DataFrame(data)\n",
    "\n",
    "#nombramos las dos columnas del DataFrame\n",
    "data.columns=['Numero', 'Dato']\n",
    "\n",
    "#imprimimos los 10 primeros datos del DataFrame\n",
    "data.head(10)"
   ]
  },
  {
   "cell_type": "markdown",
   "metadata": {},
   "source": [
    "# Ubicar el dato específico\n",
    "En este caso, el dato que se requiere es el que tiene el índice 9 en el DataFrame, que son las <b>respuestas totales</b> que dio el sujeto en la sesión"
   ]
  },
  {
   "cell_type": "code",
   "execution_count": 63,
   "metadata": {},
   "outputs": [
    {
     "name": "stdout",
     "output_type": "stream",
     "text": [
      "164.0\n"
     ]
    }
   ],
   "source": [
    "#en la variable respuestas guardamos el dato que se encuentra en el índice 9 de la columna Dato del DataFrame\n",
    "#lo guardamos como tipo float\n",
    "respuestas = float(data.loc[9:9]['Dato'])\n",
    "\n",
    "#imprimimos la variable respuestas\n",
    "print(respuestas)"
   ]
  },
  {
   "cell_type": "markdown",
   "metadata": {},
   "source": [
    "# Guardar todos los archivos de la carpeta\n",
    "Hasta ahora hemos leído un dato de un solo archivo, pero muchas veces queremos leer ese mismo dato de varios archivos (en este caso son las respuestas totales de todos los sujetos). Para hacer lo anterior usaremos la función \"ordenar\" que recibe como parámetro una ubicación y ordena alfabéticamente su contenido.  "
   ]
  },
  {
   "cell_type": "code",
   "execution_count": 65,
   "metadata": {},
   "outputs": [],
   "source": [
    "def ordenar(data):\n",
    "    convert = lambda text: int(text) if text.isdigit() else text.lower()\n",
    "    alphanum_key = lambda key: [ convert(c) for c in re.split('([0-9]+)', key) ] \n",
    "    return sorted(data, key=alphanum_key)\n",
    "\n",
    "#se obtiene una lista ordenada con todos los archivos que están en la ubicación\n",
    "contenido_Ax = ordenar(os.listdir(\"/home/yan/datos_ratas_tesis_doctorado/ENTRENAMIENTO/Grupo_Ax/\"))"
   ]
  },
  {
   "cell_type": "markdown",
   "metadata": {},
   "source": [
    "# Leer el dato de todos los archivos\n",
    "Ahora leeremos el mismo dato de todos los archivos de la carpeta. Este dato lo guardaremos en una matriz de dimensión 10x10 (ya que son 10 sesiones por cada sujeto)."
   ]
  },
  {
   "cell_type": "code",
   "execution_count": 66,
   "metadata": {},
   "outputs": [
    {
     "name": "stdout",
     "output_type": "stream",
     "text": [
      "[[164. 108.  32. 262. 216. 418. 294. 351. 385. 358.]\n",
      " [279. 343. 444. 335. 489. 506. 527. 631. 634. 513.]\n",
      " [126. 138. 280. 231. 189. 129. 151. 138. 173. 167.]\n",
      " [291. 280. 271. 166. 201. 143. 102.  98.  72.  87.]\n",
      " [165. 283. 152. 127.  76.  56.  44.  44.  59.  62.]\n",
      " [302. 375. 365. 223. 172. 141. 170. 115. 145. 144.]\n",
      " [428. 369. 186. 211. 193. 229. 194. 150. 121. 127.]\n",
      " [ 18.  35.  26.  27.  72. 143. 177. 178. 147.  96.]\n",
      " [ 72.  78.  34.  72. 136. 159. 144. 304. 203. 171.]\n",
      " [365. 225. 179. 202. 270. 256. 494. 428. 498. 592.]]\n"
     ]
    }
   ],
   "source": [
    "#creamos la matriz donde guardaremos los datos\n",
    "total = np.zeros((10,10))\n",
    "\n",
    "ruta = \"/home/yan/datos_ratas_tesis_doctorado/ENTRENAMIENTO/Grupo_Ax/\"\n",
    "i = 0\n",
    "j = 0\n",
    "\n",
    "#con un ciclo for repetiremos lo que hemos hecho para un solo archivo, pero ahora para todos los que se encuentren\n",
    "#en la lista ordenada contenido_Ax\n",
    "for elemento in contenido_Ax:\n",
    "    archivo = ruta + elemento\n",
    "    data = pd.read_csv(archivo, sep = ': ', engine='python', keep_default_na=False,\n",
    "                       na_values=[' '])\n",
    "    data = pd.DataFrame(data)\n",
    "    data.columns=['Numero', 'Dato']\n",
    "    respuestas = float(data.loc[9:9]['Dato'])\n",
    "    \n",
    "    total[i][j] = respuestas\n",
    "    j += 1\n",
    "    if j == 10:\n",
    "        i += 1\n",
    "        j = 0\n",
    "\n",
    "#imprimimos la matriz con todos los datos\n",
    "print(total)    "
   ]
  },
  {
   "cell_type": "markdown",
   "metadata": {},
   "source": [
    "# Graficar\n",
    "Ahora graficaremos los datos guardados en la matriz \"total\" en un gráfico de violín"
   ]
  },
  {
   "cell_type": "code",
   "execution_count": 67,
   "metadata": {},
   "outputs": [
    {
     "name": "stdout",
     "output_type": "stream",
     "text": [
      "[[164. 108.  32. 262. 216. 418. 294. 351. 385. 358.]\n",
      " [279. 343. 444. 335. 489. 506. 527. 631. 634. 513.]\n",
      " [126. 138. 280. 231. 189. 129. 151. 138. 173. 167.]\n",
      " [291. 280. 271. 166. 201. 143. 102.  98.  72.  87.]\n",
      " [165. 283. 152. 127.  76.  56.  44.  44.  59.  62.]\n",
      " [302. 375. 365. 223. 172. 141. 170. 115. 145. 144.]\n",
      " [428. 369. 186. 211. 193. 229. 194. 150. 121. 127.]\n",
      " [ 18.  35.  26.  27.  72. 143. 177. 178. 147.  96.]\n",
      " [ 72.  78.  34.  72. 136. 159. 144. 304. 203. 171.]\n",
      " [365. 225. 179. 202. 270. 256. 494. 428. 498. 592.]]\n"
     ]
    },
    {
     "data": {
      "image/png": "[encoded data removed]",
      "text/plain": [
       "<Figure size 432x288 with 1 Axes>"
      ]
     },
     "metadata": {},
     "output_type": "display_data"
    }
   ],
   "source": [
    "sns.set(style=\"whitegrid\")\n",
    "ax = sns.violinplot(data=total)\n",
    "print(total)"
   ]
  },
  {
   "cell_type": "code",
   "execution_count": 68,
   "metadata": {},
   "outputs": [
    {
     "name": "stdout",
     "output_type": "stream",
     "text": [
      "[126. 138. 280. 231. 189. 129. 151. 138. 173. 167.]\n",
      "172.2\n"
     ]
    },
    {
     "data": {
      "image/png": "[encoded data removed]",
      "text/plain": [
       "<Figure size 432x288 with 1 Axes>"
      ]
     },
     "metadata": {},
     "output_type": "display_data"
    }
   ],
   "source": [
    "sns.set(style=\"whitegrid\")\n",
    "sujeto = 2\n",
    "ax = sns.violinplot(data=total[sujeto][:])\n",
    "print(total[sujeto][:])\n",
    "print(np.mean(total[sujeto][:]))"
   ]
  },
  {
   "cell_type": "code",
   "execution_count": null,
   "metadata": {},
   "outputs": [],
   "source": []
  }
 ],
 "metadata": {
  "anaconda-cloud": {},
  "kernelspec": {
   "display_name": "Python 3",
   "language": "python",
   "name": "python3"
  },
  "language_info": {
   "codemirror_mode": {
    "name": "ipython",
    "version": 3
   },
   "file_extension": ".py",
   "mimetype": "text/x-python",
   "name": "python",
   "nbconvert_exporter": "python",
   "pygments_lexer": "ipython3",
   "version": "3.7.6"
  }
 },
 "nbformat": 4,
 "nbformat_minor": 1
}
